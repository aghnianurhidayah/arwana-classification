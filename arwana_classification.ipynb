{
 "cells": [
  {
   "cell_type": "code",
   "execution_count": 1,
   "metadata": {},
   "outputs": [],
   "source": [
    "import tensorflow as tf\n",
    "import matplotlib.pyplot as plt\n",
    "import pandas as pd\n",
    "import numpy as np\n",
    "import sklearn\n",
    "from tensorflow.keras.preprocessing.image import ImageDataGenerator\n",
    "import tensorflow as tf\n",
    "from tensorflow.keras import Sequential\n",
    "from tensorflow.keras.layers import Conv2D, MaxPooling2D, Flatten, Dense"
   ]
  },
  {
   "cell_type": "code",
   "execution_count": 2,
   "metadata": {},
   "outputs": [],
   "source": [
    "import splitfolders\n",
    "splitfolders.ratio(\"dataset_arwana\",\n",
    "                   output=\"dataset_arwana_final\",\n",
    "                   ratio=(.8, .1, .1))"
   ]
  },
  {
   "cell_type": "code",
   "execution_count": 3,
   "metadata": {},
   "outputs": [],
   "source": [
    "img_datagen = ImageDataGenerator(\n",
    "    rescale=1./255,\n",
    "    rotation_range=0.45,\n",
    "    width_shift_range=0.2,\n",
    "    height_shift_range=0.2,\n",
    "    shear_range=0.2,\n",
    "    zoom_range=0.2,\n",
    "    horizontal_flip=True\n",
    ")"
   ]
  },
  {
   "cell_type": "code",
   "execution_count": 4,
   "metadata": {},
   "outputs": [
    {
     "name": "stdout",
     "output_type": "stream",
     "text": [
      "Found 320 images belonging to 4 classes.\n",
      "Found 40 images belonging to 4 classes.\n"
     ]
    }
   ],
   "source": [
    "train_generator = img_datagen.flow_from_directory(\n",
    "    'dataset_arwana_final/train',\n",
    "    target_size=(150,150),\n",
    "    batch_size=32,\n",
    "    class_mode='categorical'\n",
    ")\n",
    "\n",
    "val_generator = img_datagen.flow_from_directory(\n",
    "    'dataset_arwana_final/val',\n",
    "    target_size=(150,150),\n",
    "    batch_size=32,\n",
    "    class_mode='categorical'\n",
    ")"
   ]
  },
  {
   "cell_type": "code",
   "execution_count": 5,
   "metadata": {},
   "outputs": [
    {
     "data": {
      "text/plain": [
       "{'arwana_golden': 0, 'arwana_hitam': 1, 'arwana_merah': 2, 'arwana_silver': 3}"
      ]
     },
     "execution_count": 5,
     "metadata": {},
     "output_type": "execute_result"
    }
   ],
   "source": [
    "train_generator.class_indices"
   ]
  },
  {
   "cell_type": "code",
   "execution_count": 7,
   "metadata": {},
   "outputs": [
    {
     "name": "stdout",
     "output_type": "stream",
     "text": [
      "Epoch 1/30\n",
      "10/10 [==============================] - 22s 2s/step - loss: 1.8720 - accuracy: 0.3500 - val_loss: 1.1857 - val_accuracy: 0.3000\n",
      "Epoch 2/30\n",
      "10/10 [==============================] - 18s 2s/step - loss: 0.9900 - accuracy: 0.5437 - val_loss: 0.7853 - val_accuracy: 0.5750\n",
      "Epoch 3/30\n",
      "10/10 [==============================] - 16s 1s/step - loss: 0.6868 - accuracy: 0.6906 - val_loss: 0.6488 - val_accuracy: 0.7000\n",
      "Epoch 4/30\n",
      "10/10 [==============================] - 14s 1s/step - loss: 0.7225 - accuracy: 0.6969 - val_loss: 0.5977 - val_accuracy: 0.6750\n",
      "Epoch 5/30\n",
      "10/10 [==============================] - 14s 1s/step - loss: 0.6009 - accuracy: 0.7344 - val_loss: 0.6078 - val_accuracy: 0.8000\n",
      "Epoch 6/30\n",
      "10/10 [==============================] - 15s 1s/step - loss: 0.5233 - accuracy: 0.7656 - val_loss: 0.5992 - val_accuracy: 0.7250\n",
      "Epoch 7/30\n",
      "10/10 [==============================] - 19s 2s/step - loss: 0.4978 - accuracy: 0.7656 - val_loss: 0.5787 - val_accuracy: 0.7250\n",
      "Epoch 8/30\n",
      "10/10 [==============================] - 19s 2s/step - loss: 0.4741 - accuracy: 0.7656 - val_loss: 0.6069 - val_accuracy: 0.7500\n",
      "Epoch 9/30\n",
      "10/10 [==============================] - 14s 1s/step - loss: 0.4524 - accuracy: 0.8000 - val_loss: 0.4677 - val_accuracy: 0.6750\n",
      "Epoch 10/30\n",
      "10/10 [==============================] - 14s 1s/step - loss: 0.4031 - accuracy: 0.8313 - val_loss: 0.4610 - val_accuracy: 0.7250\n",
      "Epoch 11/30\n",
      "10/10 [==============================] - 15s 1s/step - loss: 0.4064 - accuracy: 0.8250 - val_loss: 0.4287 - val_accuracy: 0.8000\n",
      "Epoch 12/30\n",
      "10/10 [==============================] - 20s 2s/step - loss: 0.4114 - accuracy: 0.8438 - val_loss: 0.4893 - val_accuracy: 0.7750\n",
      "Epoch 13/30\n",
      "10/10 [==============================] - 19s 2s/step - loss: 0.3545 - accuracy: 0.8531 - val_loss: 0.4028 - val_accuracy: 0.7500\n",
      "Epoch 14/30\n",
      "10/10 [==============================] - 15s 1s/step - loss: 0.4086 - accuracy: 0.8313 - val_loss: 0.4120 - val_accuracy: 0.7500\n",
      "Epoch 15/30\n",
      "10/10 [==============================] - 15s 1s/step - loss: 0.4394 - accuracy: 0.8125 - val_loss: 0.4932 - val_accuracy: 0.8500\n",
      "Epoch 16/30\n",
      "10/10 [==============================] - 15s 2s/step - loss: 0.3478 - accuracy: 0.8531 - val_loss: 0.5493 - val_accuracy: 0.7500\n",
      "Epoch 17/30\n",
      "10/10 [==============================] - 15s 2s/step - loss: 0.3864 - accuracy: 0.8500 - val_loss: 0.5297 - val_accuracy: 0.6750\n",
      "Epoch 18/30\n",
      "10/10 [==============================] - 20s 2s/step - loss: 0.3647 - accuracy: 0.8562 - val_loss: 0.6453 - val_accuracy: 0.8000\n",
      "Epoch 19/30\n",
      "10/10 [==============================] - 21s 2s/step - loss: 0.3906 - accuracy: 0.8438 - val_loss: 0.3850 - val_accuracy: 0.7500\n",
      "Epoch 20/30\n",
      "10/10 [==============================] - 15s 1s/step - loss: 0.3789 - accuracy: 0.8500 - val_loss: 0.4713 - val_accuracy: 0.7500\n",
      "Epoch 21/30\n",
      "10/10 [==============================] - 15s 1s/step - loss: 0.3585 - accuracy: 0.8438 - val_loss: 0.4088 - val_accuracy: 0.7750\n",
      "Epoch 22/30\n",
      "10/10 [==============================] - 15s 1s/step - loss: 0.2990 - accuracy: 0.8844 - val_loss: 0.4048 - val_accuracy: 0.8250\n",
      "Epoch 23/30\n",
      "10/10 [==============================] - 21s 2s/step - loss: 0.3310 - accuracy: 0.8469 - val_loss: 0.4975 - val_accuracy: 0.7750\n",
      "Epoch 24/30\n",
      "10/10 [==============================] - 18s 2s/step - loss: 0.3437 - accuracy: 0.8625 - val_loss: 0.3002 - val_accuracy: 0.8500\n",
      "Epoch 25/30\n",
      "10/10 [==============================] - 16s 1s/step - loss: 0.3006 - accuracy: 0.8813 - val_loss: 0.4266 - val_accuracy: 0.7750\n",
      "Epoch 26/30\n",
      "10/10 [==============================] - 14s 1s/step - loss: 0.2788 - accuracy: 0.8813 - val_loss: 0.3722 - val_accuracy: 0.7750\n",
      "Epoch 27/30\n",
      "10/10 [==============================] - 15s 1s/step - loss: 0.2836 - accuracy: 0.8781 - val_loss: 0.5696 - val_accuracy: 0.8750\n",
      "Epoch 28/30\n",
      "10/10 [==============================] - 15s 1s/step - loss: 0.2799 - accuracy: 0.9094 - val_loss: 0.4935 - val_accuracy: 0.8000\n",
      "Epoch 29/30\n",
      "10/10 [==============================] - 19s 2s/step - loss: 0.2490 - accuracy: 0.9125 - val_loss: 0.3871 - val_accuracy: 0.8500\n",
      "Epoch 30/30\n",
      "10/10 [==============================] - 19s 2s/step - loss: 0.2793 - accuracy: 0.9062 - val_loss: 0.5023 - val_accuracy: 0.7500\n"
     ]
    }
   ],
   "source": [
    "model = Sequential([\n",
    "    Conv2D(64, (3,3), activation='relu', input_shape=(150,150,3)),\n",
    "    MaxPooling2D(2,2),\n",
    "    Conv2D(128, (3,3), activation='relu'),\n",
    "    MaxPooling2D(2,2),\n",
    "    Flatten(),\n",
    "    Dense(128, activation='relu'),\n",
    "    Dense(64, activation='relu'),\n",
    "    Dense(4, activation='softmax')\n",
    "])\n",
    "\n",
    "model.compile(optimizer='adam',\n",
    "              loss='categorical_crossentropy',\n",
    "              metrics=['accuracy'])\n",
    "\n",
    "history = model.fit(\n",
    "    train_generator, validation_data=val_generator, epochs=30\n",
    ")"
   ]
  },
  {
   "cell_type": "code",
   "execution_count": 8,
   "metadata": {},
   "outputs": [
    {
     "name": "stdout",
     "output_type": "stream",
     "text": [
      "Found 40 images belonging to 4 classes.\n"
     ]
    }
   ],
   "source": [
    "img_test_datagen = ImageDataGenerator(\n",
    "    rescale=1./255\n",
    ")\n",
    "\n",
    "test_data_gen = img_datagen.flow_from_directory(\n",
    "    'dataset_arwana_final/test',\n",
    "    target_size=(150,150),\n",
    "    batch_size=32,\n",
    "    class_mode='categorical'\n",
    ")"
   ]
  },
  {
   "cell_type": "code",
   "execution_count": 9,
   "metadata": {},
   "outputs": [
    {
     "name": "stdout",
     "output_type": "stream",
     "text": [
      "2/2 [==============================] - 1s 127ms/step - loss: 0.4118 - accuracy: 0.8750\n"
     ]
    },
    {
     "data": {
      "text/plain": [
       "[0.411817729473114, 0.875]"
      ]
     },
     "execution_count": 9,
     "metadata": {},
     "output_type": "execute_result"
    }
   ],
   "source": [
    "model.evaluate(test_data_gen)"
   ]
  },
  {
   "cell_type": "code",
   "execution_count": 9,
   "metadata": {},
   "outputs": [],
   "source": [
    "import pickle\n",
    "filename = 'trained_model_arwana_classification.sav'\n",
    "pickle.dump(model, open(filename, 'wb'))"
   ]
  }
 ],
 "metadata": {
  "kernelspec": {
   "display_name": "Python 3",
   "language": "python",
   "name": "python3"
  },
  "language_info": {
   "codemirror_mode": {
    "name": "ipython",
    "version": 3
   },
   "file_extension": ".py",
   "mimetype": "text/x-python",
   "name": "python",
   "nbconvert_exporter": "python",
   "pygments_lexer": "ipython3",
   "version": "3.10.7"
  }
 },
 "nbformat": 4,
 "nbformat_minor": 2
}
